{
 "cells": [
  {
   "cell_type": "markdown",
   "id": "5caf6ee5",
   "metadata": {},
   "source": [
    "1. Write a program to chaeck if input number is a prime number."
   ]
  },
  {
   "cell_type": "code",
   "execution_count": 1,
   "id": "4c11f67d",
   "metadata": {},
   "outputs": [
    {
     "name": "stdout",
     "output_type": "stream",
     "text": [
      "Enter a Number: 5\n",
      "5 is a prime number\n"
     ]
    }
   ],
   "source": [
    "# A prime number is a number only divisible by 1 and itself\n",
    "number = int(input('Enter a Number: '))\n",
    "\n",
    "# Any number less than or equal to one is not a prime number\n",
    "if number <= 1:\n",
    "    print(f'{number} is not a prime number')\n",
    "else:\n",
    "    # Assume the number is prime until proven otherwise\n",
    "    is_prime = True\n",
    "    # Numbers from 2 to the square root of the number (inclusive) will be checked\n",
    "    for i in range(2, int(number ** 0.5) + 1):\n",
    "        # It is not considered a prime number if it is divisible by any of the numbers\n",
    "        if number % i == 0:\n",
    "            is_prime = False\n",
    "            break\n",
    "    # Print the result after all checks\n",
    "    if is_prime:\n",
    "        print(f'{number} is a prime number')\n",
    "    else:\n",
    "        print(f'{number} is not a prime number')\n",
    "        \n",
    "# I used 5 as a eavmple."
   ]
  },
  {
   "cell_type": "markdown",
   "id": "537ca620",
   "metadata": {},
   "source": [
    "2. Write a program that prints that prints the numbers from 1 to 100. But for multiples of 3 print \"Fizz\" instead of the number and for the number multiples of 5 print \"Buzz\". For numbers which are multples of both 3 and 5 print \"FizzBuzz\"."
   ]
  },
  {
   "cell_type": "code",
   "execution_count": 2,
   "id": "aba84979",
   "metadata": {},
   "outputs": [
    {
     "name": "stdout",
     "output_type": "stream",
     "text": [
      "Fizz\n",
      "Buzz\n",
      "Fizz\n",
      "Fizz\n",
      "Buzz\n",
      "Fizz\n",
      "Fizz\n",
      "Buzz\n",
      "FizzBuzz\n",
      "Fizz\n",
      "Buzz\n",
      "Fizz\n",
      "Fizz\n",
      "Buzz\n",
      "Fizz\n",
      "Fizz\n",
      "Buzz\n",
      "FizzBuzz\n",
      "Fizz\n",
      "Buzz\n",
      "Fizz\n",
      "Fizz\n",
      "Buzz\n",
      "Fizz\n",
      "Fizz\n",
      "Buzz\n",
      "FizzBuzz\n",
      "Fizz\n",
      "Buzz\n",
      "Fizz\n",
      "Fizz\n",
      "Buzz\n",
      "Fizz\n",
      "Fizz\n",
      "Buzz\n",
      "FizzBuzz\n",
      "Fizz\n",
      "Buzz\n",
      "Fizz\n",
      "Fizz\n",
      "Buzz\n",
      "Fizz\n",
      "Fizz\n",
      "Buzz\n",
      "FizzBuzz\n",
      "Fizz\n",
      "Buzz\n",
      "Fizz\n",
      "Fizz\n",
      "Buzz\n",
      "Fizz\n",
      "Fizz\n",
      "Buzz\n",
      "FizzBuzz\n",
      "Fizz\n",
      "Buzz\n",
      "Fizz\n",
      "Fizz\n",
      "Buzz\n"
     ]
    }
   ],
   "source": [
    "# to iterate numbers from 1 to 100\n",
    "for i in range(1, 101):\n",
    "    # numbers that are mutiples of 3, have no remainder when divided by 3\n",
    "    if i % 3 == 0:\n",
    "        print('Fizz')\n",
    "    # numbers that are mutiples of 5, have no remainder when divided by 5\n",
    "    if i % 5 == 0:\n",
    "        print('Buzz')\n",
    "    # numbers the are multiples of 3 and 5\n",
    "    if i % 3 == 0 and i % 5 == 0:\n",
    "        print('FizzBuzz')"
   ]
  },
  {
   "cell_type": "code",
   "execution_count": null,
   "id": "882df927",
   "metadata": {},
   "outputs": [],
   "source": []
  }
 ],
 "metadata": {
  "kernelspec": {
   "display_name": "Python 3 (ipykernel)",
   "language": "python",
   "name": "python3"
  },
  "language_info": {
   "codemirror_mode": {
    "name": "ipython",
    "version": 3
   },
   "file_extension": ".py",
   "mimetype": "text/x-python",
   "name": "python",
   "nbconvert_exporter": "python",
   "pygments_lexer": "ipython3",
   "version": "3.10.9"
  }
 },
 "nbformat": 4,
 "nbformat_minor": 5
}
